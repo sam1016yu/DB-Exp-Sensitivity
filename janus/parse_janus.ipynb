{
 "cells": [
  {
   "cell_type": "code",
   "execution_count": 2,
   "metadata": {},
   "outputs": [],
   "source": [
    "import os\n",
    "import pandas as pd\n",
    "import tarfile\n",
    "import shutil"
   ]
  },
  {
   "cell_type": "markdown",
   "metadata": {},
   "source": [
    "# Column names:"
   ]
  },
  {
   "cell_type": "markdown",
   "metadata": {},
   "source": [
    "txn_name, cc, ab, benchmark, duration, clients, tps, attempts, commits, start_cnt, total_cnt, 50.0, 90.0, 99.0, 99.9, max, min, zipf, experiment_id"
   ]
  },
  {
   "cell_type": "markdown",
   "metadata": {},
   "source": [
    "# Remember to pause Dropbox Sync!"
   ]
  },
  {
   "cell_type": "code",
   "execution_count": 1,
   "metadata": {},
   "outputs": [],
   "source": [
    "def parse_round(result_dir):\n",
    "    cur_dir = os.getcwd()\n",
    "    base_dir = os.path.join(cur_dir,result_dir)\n",
    "    tar_lists = [f for f in os.listdir(base_dir) if f.endswith(\".tgz\")]\n",
    "    exp_dfs = []\n",
    "    for ft in tar_lists:\n",
    "    # ft = tar_lists[0]\n",
    "        config = ft[:-4].split('_')\n",
    "        shards=int(config[3][:-6])\n",
    "        cpus=int(config[4][:-4])\n",
    "        reps=int(config[6][:-3])\n",
    "        ft_path = os.path.join(base_dir,ft)\n",
    "        # unzip tgz files first\n",
    "        tar =  tarfile.open(ft_path,'r:gz')\n",
    "        tar.extractall(base_dir)\n",
    "        tar.close()\n",
    "        arc_dir = os.path.join(base_dir,\"archive\")\n",
    "        # parse csv files\n",
    "        csvs = [os.path.join(arc_dir,f) for f in os.listdir(arc_dir) if f.endswith(\".csv\")]\n",
    "        if not csvs:\n",
    "            continue\n",
    "        all_df = (pd.read_csv(f,sep=', ',skiprows=3,header=None,usecols=[0,1,2,5,6]) for f in csvs)\n",
    "        df = pd.concat(all_df, ignore_index=True)\n",
    "        df.drop_duplicates(inplace=True)\n",
    "        # columns interested\n",
    "        df.columns = ['txn_name', 'cc', 'ab', 'clients', 'tps']#, 'attempts', 'commits', 'start_cnt', 'total_cnt', '50.0', '90.0', '99.0', '99.9', 'max', 'min', 'zipf', 'experiment_id']\n",
    "        df = df.groupby(['cc', 'ab','clients']).sum().reset_index()\n",
    "        df['shards'] = shards\n",
    "        df['cpus'] = cpus\n",
    "        df['replica'] = reps\n",
    "        shutil.rmtree(arc_dir)\n",
    "        exp_dfs.append(df)\n",
    "\n",
    "    df = pd.concat(exp_dfs,ignore_index=True)\n",
    "    df.drop(columns=[\"ab\"],inplace=True)\n",
    "    df.drop_duplicates(['cc','clients','shards','cpus','replica'],inplace=True,ignore_index=True)\n",
    "    return df"
   ]
  },
  {
   "cell_type": "code",
   "execution_count": 3,
   "metadata": {},
   "outputs": [
    {
     "name": "stderr",
     "output_type": "stream",
     "text": [
      "C:\\ProgramData\\Anaconda3\\lib\\site-packages\\pandas\\util\\_decorators.py:311: ParserWarning: Falling back to the 'python' engine because the 'c' engine does not support regex separators (separators > 1 char and different from '\\s+' are interpreted as regex); you can avoid this warning by specifying engine='python'.\n",
      "  return func(*args, **kwargs)\n"
     ]
    }
   ],
   "source": [
    "df1 = parse_round(\"round1\\\\janus\")\n",
    "df2 = parse_round(\"round2\\\\janus\")\n",
    "df3 = parse_round(\"round3\\\\janus\")\n"
   ]
  },
  {
   "cell_type": "code",
   "execution_count": 18,
   "metadata": {},
   "outputs": [],
   "source": [
    "def mean_count_miss(df):\n",
    "    runs = df.shape[0]\n",
    "    if runs == 1:\n",
    "        return -1\n",
    "    else:\n",
    "        return df.mean()"
   ]
  },
  {
   "cell_type": "code",
   "execution_count": 40,
   "metadata": {},
   "outputs": [],
   "source": [
    "janus_index = ['cc','clients','shards','cpus','replica']\n",
    "agg_df_raw = pd.concat([df1,df2,df3],axis=0).groupby(janus_index).mean().reset_index()\n",
    "agg_df_indexed = agg_df_raw.set_index(janus_index)"
   ]
  },
  {
   "cell_type": "code",
   "execution_count": 44,
   "metadata": {},
   "outputs": [
    {
     "data": {
      "text/plain": [
       "(3197, 6)"
      ]
     },
     "execution_count": 44,
     "metadata": {},
     "output_type": "execute_result"
    }
   ],
   "source": [
    "agg_df_raw.shape"
   ]
  },
  {
   "cell_type": "code",
   "execution_count": 58,
   "metadata": {},
   "outputs": [],
   "source": [
    "# this cell is used to find out which settings are missing\n",
    "# if you are parsing partial result, you can ignore this cell\n",
    "missing = []\n",
    "for rep in [1,3,5,7]:\n",
    "    for cpu in [1,2,3,4]:\n",
    "        WH = 1\n",
    "        while rep*WH/cpu<=27:\n",
    "            for cli in [1,10,20,40,80,100,200,500,1000,2000,4000]:\n",
    "                for cc in ['Janus','Tapir','2PL','OCC']:\n",
    "                    try:\n",
    "                        agg_df_indexed.loc[(cc,cli,WH,cpu,rep)]\n",
    "                    except KeyError:\n",
    "                        missing.append(pd.DataFrame.from_records([{'cc':cc,'clients':cli,'shards':WH,'cpus':cpu,'replica':rep,'tps':-1}]))\n",
    "            WH = WH * 2"
   ]
  },
  {
   "cell_type": "code",
   "execution_count": 59,
   "metadata": {},
   "outputs": [],
   "source": [
    "miss_df = pd.concat(missing,axis=0).reset_index(drop=True)\n",
    "agg_df = pd.concat([miss_df,agg_df_raw],axis=0).reset_index(drop=True)\n"
   ]
  },
  {
   "cell_type": "code",
   "execution_count": 61,
   "metadata": {},
   "outputs": [],
   "source": [
    "agg_df.to_csv('result1_avg/janus.csv',index=False)"
   ]
  }
 ],
 "metadata": {
  "interpreter": {
   "hash": "b3ba2566441a7c06988d0923437866b63cedc61552a5af99d1f4fb67d367b25f"
  },
  "kernelspec": {
   "display_name": "Python 3.8.11 64-bit ('base': conda)",
   "name": "python3"
  },
  "language_info": {
   "codemirror_mode": {
    "name": "ipython",
    "version": 3
   },
   "file_extension": ".py",
   "mimetype": "text/x-python",
   "name": "python",
   "nbconvert_exporter": "python",
   "pygments_lexer": "ipython3",
   "version": "3.8.11"
  },
  "orig_nbformat": 4
 },
 "nbformat": 4,
 "nbformat_minor": 2
}
